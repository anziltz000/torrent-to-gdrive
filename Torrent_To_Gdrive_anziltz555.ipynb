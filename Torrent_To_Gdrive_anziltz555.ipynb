{
  "cells": [
    {
      "cell_type": "markdown",
      "metadata": {
        "id": "view-in-github",
        "colab_type": "text"
      },
      "source": [
        "<a href=\"https://colab.research.google.com/github/anziltz000/torrent-to-gdrive/blob/main/Torrent_To_Gdrive_anziltz555.ipynb\" target=\"_parent\"><img src=\"https://colab.research.google.com/assets/colab-badge.svg\" alt=\"Open In Colab\"/></a>"
      ]
    },
    {
      "cell_type": "markdown",
      "metadata": {
        "id": "YhG2Sxa8B6f-"
      },
      "source": [
        "# 🎯 Torrent to Google Drive Downloader\n",
        "\n",
        "Download `.torrent` or **magnet link** files using `aria2c` right inside **Google Colab**, and upload them directly to your **Google Drive** — all in one smooth workflow!\n",
        "\n",
        "> 📦 Built with 💡 AI automation — by `anziltz555`  \n",
        "> ⚙️ Powered by `aria2c`, `tqdm`, and `Google Colab`  \n",
        "> 🧠 Created using **AI coding assistance**\n",
        "\n",
        "---\n",
        "\n",
        "### 📋 How to Use (All Steps Are Required — Nothing Optional)\n",
        "Follow these steps **in order** for the downloader to work properly:\n",
        "\n",
        "---\n",
        "\n",
        "#### ✅ 1. Mount Your Google Drive\n",
        "- This step lets Colab save downloaded files into your Drive.\n",
        "\n",
        "#### ✅ 2. Install Required Modules\n",
        "- Installs `aria2c` for torrent/magnet downloads and `tqdm` for the progress bar.\n",
        "\n",
        "#### ✅ 3. Choose Your Download Method\n",
        "- Enter:\n",
        "  - `1` to **upload a .torrent file**\n",
        "  - `2` to **paste a magnet link**\n",
        "\n",
        "#### ✅ 4. Start Downloading\n",
        "- The script will use `aria2c` to download the torrent or magnet file.\n",
        "- A **real-time progress bar** will be shown during the download.\n",
        "\n",
        "#### ✅ 5. Auto Upload to Google Drive\n",
        "- Once the download is complete, it will be automatically **moved to your Google Drive** folder:\n",
        "  - `My Drive/TorrentDownloads/Downloads`\n",
        "- Existing files in the destination **will be overwritten**.\n",
        "\n",
        "---\n",
        "\n",
        "### 📎 Notes\n",
        "- Works with most public `.torrent` files and magnet links.\n",
        "- Does **not support password-protected private torrents**.\n",
        "- Each session in Colab is temporary — re-run from the top if disconnected.\n",
        "\n",
        "---\n",
        "\n",
        "> 🧠 **Pro Tip**: You can hide code cells using collapse arrows or toggle buttons for a cleaner UI.\n"
      ]
    },
    {
      "cell_type": "markdown",
      "source": [
        "# ***Mount Your Google Drive***"
      ],
      "metadata": {
        "id": "Dd-pVkk0nZW6"
      }
    },
    {
      "cell_type": "code",
      "execution_count": null,
      "metadata": {
        "id": "Zz84Sc5KB6gL"
      },
      "outputs": [],
      "source": [
        "# STEP 1: Mount Google Drive\n",
        "from google.colab import drive\n",
        "drive.mount('/content/drive')"
      ]
    },
    {
      "cell_type": "markdown",
      "source": [
        "# ***Install Aria2c Module***"
      ],
      "metadata": {
        "id": "i9sAGCBYm2wm"
      }
    },
    {
      "cell_type": "code",
      "execution_count": null,
      "metadata": {
        "id": "G_rgWOoJB6gR"
      },
      "outputs": [],
      "source": [
        "# STEP 2: Install aria2 and tqdm\n",
        "!apt install -y aria2\n",
        "!pip install -q tqdm"
      ]
    },
    {
      "cell_type": "markdown",
      "source": [
        "# **Choose .torrent file (1) or magent link (2)**"
      ],
      "metadata": {
        "id": "LJRI45ofmcFC"
      }
    },
    {
      "cell_type": "code",
      "execution_count": null,
      "metadata": {
        "id": "bwhGmyo5B6gU"
      },
      "outputs": [],
      "source": [
        "import os\n",
        "from google.colab import files\n",
        "\n",
        "download_dir = \"/content/Downloads\"\n",
        "os.makedirs(download_dir, exist_ok=True)\n",
        "\n",
        "mode = input(\"Enter '1' to upload a .torrent file or '2' to use a magnet link: \").strip()\n",
        "\n",
        "if mode == \"1\":\n",
        "    uploaded = files.upload()\n",
        "    torrent_file = list(uploaded.keys())[0]\n",
        "    download_source = torrent_file\n",
        "    print(f\"📁 Uploaded: {torrent_file}\")\n",
        "elif mode == \"2\":\n",
        "    magnet_link = input(\"🔗 Paste your magnet link here: \").strip()\n",
        "    download_source = magnet_link\n",
        "    print(\"✅ Magnet link received.\")\n",
        "else:\n",
        "    raise ValueError(\"❌ Invalid input. Enter '1' or '2'.\")\n"
      ]
    },
    {
      "cell_type": "markdown",
      "source": [
        "# **START DOWNLOADING**"
      ],
      "metadata": {
        "id": "_q_FZZxYmKlI"
      }
    },
    {
      "cell_type": "code",
      "source": [
        "import subprocess\n",
        "from tqdm.notebook import tqdm\n",
        "import re\n",
        "\n",
        "print(\"🚀 Starting aria2c download...\\n\")\n",
        "\n",
        "process = subprocess.Popen(\n",
        "    [\n",
        "        \"aria2c\",\n",
        "        f\"--dir={download_dir}\",\n",
        "        \"--seed-time=0\",\n",
        "        \"--summary-interval=1\",\n",
        "        \"--console-log-level=warn\",\n",
        "        \"--follow-torrent=mem\",\n",
        "        \"--max-connection-per-server=5\",\n",
        "        \"--split=5\",\n",
        "        download_source\n",
        "    ],\n",
        "    stdout=subprocess.PIPE,\n",
        "    stderr=subprocess.STDOUT,\n",
        "    universal_newlines=True,\n",
        "    bufsize=1\n",
        ")\n",
        "\n",
        "progress_bar = tqdm(total=100, desc=\"📦 Download Progress\", ncols=100)\n",
        "current_percent = 0\n",
        "\n",
        "for line in process.stdout:\n",
        "    match = re.search(r\"\\s(\\d{1,3})%\", line)\n",
        "    if match:\n",
        "        percent = int(match.group(1))\n",
        "        if percent > current_percent:\n",
        "            progress_bar.update(percent - current_percent)\n",
        "            current_percent = percent\n",
        "\n",
        "process.wait()\n",
        "progress_bar.n = 100\n",
        "progress_bar.refresh()\n",
        "progress_bar.close()\n",
        "\n",
        "print(\"✅ Download complete.\")\n"
      ],
      "metadata": {
        "id": "SClezhs2geb_"
      },
      "execution_count": null,
      "outputs": []
    },
    {
      "cell_type": "markdown",
      "source": [
        "# **Final Move File To Drive**"
      ],
      "metadata": {
        "id": "jIMhtFTPlmO8"
      }
    },
    {
      "cell_type": "code",
      "source": [
        "import shutil\n",
        "import os\n",
        "\n",
        "gdrive_path = '/content/drive/My Drive/TorrentDownloads'\n",
        "destination_dir = os.path.join(gdrive_path, \"Downloads\")\n",
        "os.makedirs(destination_dir, exist_ok=True)\n",
        "\n",
        "# Move files/folders, overwriting if they already exist\n",
        "for item in os.listdir(download_dir):\n",
        "    src_path = os.path.join(download_dir, item)\n",
        "    dst_path = os.path.join(destination_dir, item)\n",
        "\n",
        "    if os.path.exists(dst_path):\n",
        "        if os.path.isdir(dst_path):\n",
        "            shutil.rmtree(dst_path)  # Remove existing folder\n",
        "        else:\n",
        "            os.remove(dst_path)      # Remove existing file\n",
        "\n",
        "    shutil.move(src_path, dst_path)\n",
        "    print(f\"✅ Overwritten and moved: {item}\")\n",
        "\n",
        "print(f\"\\n📁 All downloads moved to: {destination_dir}\")\n"
      ],
      "metadata": {
        "id": "fXdAdeN8ia10"
      },
      "execution_count": null,
      "outputs": []
    }
  ],
  "metadata": {
    "colab": {
      "provenance": [],
      "collapsed_sections": [
        "Dd-pVkk0nZW6",
        "i9sAGCBYm2wm",
        "LJRI45ofmcFC",
        "_q_FZZxYmKlI",
        "jIMhtFTPlmO8"
      ],
      "include_colab_link": true
    },
    "kernelspec": {
      "display_name": "Python 3",
      "language": "python",
      "name": "python3"
    },
    "language_info": {
      "name": "python"
    }
  },
  "nbformat": 4,
  "nbformat_minor": 0
}